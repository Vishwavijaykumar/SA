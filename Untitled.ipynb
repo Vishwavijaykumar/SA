{
 "cells": [
  {
   "cell_type": "code",
   "execution_count": 3,
   "id": "2f284e3a-4180-4815-b86f-6dc2519775a1",
   "metadata": {},
   "outputs": [
    {
     "name": "stdout",
     "output_type": "stream",
     "text": [
      "hello\n"
     ]
    }
   ],
   "source": [
    "print(\"hello\")"
   ]
  },
  {
   "cell_type": "code",
   "execution_count": 4,
   "id": "5b08c138-4a99-4366-b38d-c0622c82af31",
   "metadata": {},
   "outputs": [
    {
     "name": "stdout",
     "output_type": "stream",
     "text": [
      "vishwavijay kumar\n"
     ]
    }
   ],
   "source": [
    "print(\"vishwavijay kumar\")"
   ]
  },
  {
   "cell_type": "code",
   "execution_count": null,
   "id": "be664433-cfb3-4643-8c63-eb5f42e360c9",
   "metadata": {},
   "outputs": [],
   "source": []
  }
 ],
 "metadata": {
  "kernelspec": {
   "display_name": "Python 3 (ipykernel)",
   "language": "python",
   "name": "python3"
  },
  "language_info": {
   "codemirror_mode": {
    "name": "ipython",
    "version": 3
   },
   "file_extension": ".py",
   "mimetype": "text/x-python",
   "name": "python",
   "nbconvert_exporter": "python",
   "pygments_lexer": "ipython3",
   "version": "3.12.4"
  }
 },
 "nbformat": 4,
 "nbformat_minor": 5
}
